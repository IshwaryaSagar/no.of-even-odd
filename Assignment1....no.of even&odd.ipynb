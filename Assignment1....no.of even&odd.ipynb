{
 "cells": [
  {
   "cell_type": "code",
   "execution_count": 20,
   "id": "b826f9c1",
   "metadata": {},
   "outputs": [
    {
     "name": "stdout",
     "output_type": "stream",
     "text": [
      "[1, 2, 3, 4, 5, 6, 7, 8, 9]\n",
      "no. of even numbers: 4\n",
      "no. of odd numbers: 5\n"
     ]
    }
   ],
   "source": [
    "a=[1,2,3,4,5,6,7,8,9]\n",
    "b=0\n",
    "c=1\n",
    "for i in range(1,9):\n",
    "    if(i%2==0):\n",
    "        b=b+1\n",
    "    else:\n",
    "        c=c+1\n",
    "print(a)\n",
    "print(\"no. of even numbers:\",b)\n",
    "print(\"no. of odd numbers:\",c)"
   ]
  },
  {
   "cell_type": "code",
   "execution_count": null,
   "id": "206be971",
   "metadata": {},
   "outputs": [],
   "source": []
  }
 ],
 "metadata": {
  "kernelspec": {
   "display_name": "Python 3 (ipykernel)",
   "language": "python",
   "name": "python3"
  },
  "language_info": {
   "codemirror_mode": {
    "name": "ipython",
    "version": 3
   },
   "file_extension": ".py",
   "mimetype": "text/x-python",
   "name": "python",
   "nbconvert_exporter": "python",
   "pygments_lexer": "ipython3",
   "version": "3.9.7"
  }
 },
 "nbformat": 4,
 "nbformat_minor": 5
}
